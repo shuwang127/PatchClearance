{
  "nbformat": 4,
  "nbformat_minor": 0,
  "metadata": {
    "colab": {
      "name": "extract_features.ipynb",
      "provenance": [],
      "toc_visible": true,
      "mount_file_id": "1Q-YLUq2sdZPD5a4eh6TNBHvrOxCNKECR",
      "authorship_tag": "ABX9TyPfRbFCg/fuG2jZN6mIyZFv",
      "include_colab_link": true
    },
    "kernelspec": {
      "name": "python3",
      "display_name": "Python 3"
    }
  },
  "cells": [
    {
      "cell_type": "markdown",
      "metadata": {
        "id": "view-in-github",
        "colab_type": "text"
      },
      "source": [
        "<a href=\"https://colab.research.google.com/github/shuwang127/SecurityPatch/blob/master/extract_features.ipynb\" target=\"_parent\"><img src=\"https://colab.research.google.com/assets/colab-badge.svg\" alt=\"Open In Colab\"/></a>"
      ]
    },
    {
      "cell_type": "markdown",
      "metadata": {
        "id": "4LEgutEcZ_yT",
        "colab_type": "text"
      },
      "source": [
        "# Preliminary"
      ]
    },
    {
      "cell_type": "markdown",
      "metadata": {
        "id": "lg0Vui_pY9AY",
        "colab_type": "text"
      },
      "source": [
        "Import library."
      ]
    },
    {
      "cell_type": "code",
      "metadata": {
        "id": "QQCI2gfNt_57",
        "colab_type": "code",
        "colab": {}
      },
      "source": [
        "import os\n",
        "import re\n",
        "!pip3 install python-Levenshtein\n",
        "import Levenshtein"
      ],
      "execution_count": 0,
      "outputs": []
    },
    {
      "cell_type": "markdown",
      "metadata": {
        "id": "60INfPC2ZThD",
        "colab_type": "text"
      },
      "source": [
        "Global path."
      ]
    },
    {
      "cell_type": "code",
      "metadata": {
        "id": "Js57hHVYZVZx",
        "colab_type": "code",
        "colab": {}
      },
      "source": [
        "# global path.\n",
        "rootPath = './drive/My Drive/Colab Notebooks/'\n",
        "posPath = rootPath + '/security_patch/'\n",
        "negPath = rootPath + '/random_commit/'"
      ],
      "execution_count": 0,
      "outputs": []
    },
    {
      "cell_type": "markdown",
      "metadata": {
        "id": "iwhLOjJ0Zga5",
        "colab_type": "text"
      },
      "source": [
        "Keyword definition."
      ]
    },
    {
      "cell_type": "code",
      "metadata": {
        "id": "FRnhvOfBZmW5",
        "colab_type": "code",
        "colab": {}
      },
      "source": [
        "# keyword definition.\n",
        "MI_keyword = [\"overflow\", \"leak\", \"buffer\", \"race\", \"integer\", \"null\", \"dereference\", \"free\", \"lock\", \"byte\", \\\n",
        "\t\t\t  \"directory\", \"bound\", \"loop\", \"uninitialized\", \"stack\", \"memory\",\"padding\", \"infinite\", \"double\", \\\n",
        "\t\t\t  \"array\", \"capture\", \"pointer\", \"permission\", \"size\", \"length\", \"division\", \"crash\", \"key\", \"root\", \"leak\"]\n",
        "# arithmetic operations.\n",
        "ari_op2 = [\"++\", \"--\"]\n",
        "ari_op1 = [\"=\", \"+\", \"-\", \"*\", \"/\", \"%\"]\n",
        "# relational operations.\n",
        "rel_op2 = [\"==\", \"!=\", \">=\", \"<=\"]\n",
        "rel_op1 = [\">\", \"<\"]\n",
        "# logical operations.\n",
        "log_op2 = [\"&&\", \"||\"]\n",
        "log_op1 = [\"!\", \"not\", \"and\", \"or\"]\n",
        "# bit operations.\n",
        "bit_op2 = [\"<<\", \">>\", \"bitand\", \"bitor\", \"xor\"]\n",
        "bit_op1 = [\"~\", \"&\", \"|\", \"^\"]\n",
        "# memory keywords.\n",
        "mem_keyword = [\"malloc\", \"calloc\", \"realloc\", \"free\", \"memset\", \"memcmp\", \"memcpy\", \"memmove\", \"sizeof\", \"new\", \"delete\"]\n",
        "# if keywords.\n",
        "if_keyword = [\"if\", \"else\", \"switch\", \"case\", \"&&\", \"||\"]\n",
        "# loop keywords.\n",
        "loop_keyword = [\"for\", \"while\"]\n",
        "# jump keywords.\n",
        "jump_keyword = [\"break\", \"continue\", \"return\", \"goto\", \"throw\", \"assert\"]\n",
        "# C keywords.\n",
        "c_keywords = ['auto', 'break', 'case', 'char', 'const', 'continue', 'default', 'do', 'double', 'else', 'enum', 'extern', \\\n",
        "\t\t\t  'float', 'for', 'goto', 'if', 'inline', 'int', 'long', 'register', 'restrict', 'return', 'short', 'signed', \\\n",
        "\t\t\t  'sizeof', 'static', 'struct', 'switch', 'typedef', 'union', 'unsigned', 'void', 'volatile', 'while', 'bool', \\\n",
        "\t\t\t  'alignas', 'alignof', 'bool', 'complex', 'imaginary', 'noreturn', 'static_assert', 'thread_local']\n",
        "# C++ keywords.\n",
        "cpp_keywords = ['alignas', 'alignof', 'and', 'and_eq', 'asm', 'atomic_cancel', 'atomic_commit', 'atomic_noexcept', 'auto', \\\n",
        "\t\t\t\t'bitand', 'bitor', 'bool', 'break', 'case', 'catch', 'char', 'char8_t', 'char16_t', 'char32_t', 'class', \\\n",
        "\t\t\t\t'compl', 'concept', 'const', 'consteval', 'constexpr', 'const_cast', 'continue', 'co_await', 'co_return', \\\n",
        "\t\t\t\t'co_yield', 'decltype', 'default', 'delete', 'do', 'double', 'dynamic_cast', 'else', 'enum', 'explicit', \\\n",
        "\t\t\t\t'export', 'extern', 'false', 'float', 'for', 'friend', 'goto', 'if', 'import', 'inline', 'int', 'long', \\\n",
        "\t\t\t\t'module', 'mutable', 'namespace', 'new', 'noexcept', 'not', 'not_eq', 'nullptr', 'operator', 'or', 'or_eq', \\\n",
        "\t\t\t\t'private', 'protected', 'public', 'reflexpr', 'register', 'reinterpret_cast', 'requires', 'return', 'short', \\\n",
        "\t\t\t\t'signed', 'sizeof', 'static', 'static_assert', 'static_cast', 'struct', 'switch', 'synchronized', 'template', \\\n",
        "\t\t\t\t'this', 'thread_local', 'throw', 'true', 'try', 'typedef', 'typeid', 'typename', 'union', 'unsigned', 'using', \\\n",
        "\t\t\t\t'virtual', 'void', 'volatile', 'wchar_t', 'while', 'xor', 'xor_eq', 'printf']\n",
        "# dictionary keywords.\n",
        "dir_keyword = [\"\\'\\'\", \"\\'.\\'\", \"\\'..\\'\", \"\\'/../\\'\", \"\\'../\\'\", \"\\'/..\\'\", \"\\'/\\'\", \"\\'\\\\\\'\", \"\\'/\\\\\\'\",\\\n",
        "\t\t\t\t'\\\"\\\"', '\\\".\\\"', '\\\"..\\\"', '\\\"/../\\\"', '\\\"../\\\"', '\\\"/..\\\"', '\\\"/\\\"', '\\\"\\\\\\\"', \"\\'/\\\\\\'\"]\n",
        "# race keywords.\n",
        "race_keyword = [\"release\", \"lock\", \"mutex\", \"unlock\"]\n",
        "# not keywords.\n",
        "not_keyword = [\"==0\", \"!=0\", \"==null\", \"!=null\", \"!\"]"
      ],
      "execution_count": 0,
      "outputs": []
    },
    {
      "cell_type": "markdown",
      "metadata": {
        "id": "J5EgHHLCaRPy",
        "colab_type": "text"
      },
      "source": [
        "Variable definition."
      ]
    },
    {
      "cell_type": "code",
      "metadata": {
        "id": "vudGSSf8aU4K",
        "colab_type": "code",
        "colab": {}
      },
      "source": [
        "# define cache.\n",
        "name = []\n",
        "label = []\n",
        "MI = []\n",
        "# diff, hunk, func number.\n",
        "diff_num = []\n",
        "hunk_num = []\n",
        "func_num = []\n",
        "# line number.\n",
        "line_num_total = []\n",
        "line_num_net = []\n",
        "line_num_del = []\n",
        "line_num_add = []\n",
        "# character number.\n",
        "char_num_total = []\n",
        "char_num_net = []\n",
        "char_num_del = []\n",
        "char_num_add = []\n",
        "# memory number.\n",
        "mem_num_total = []\n",
        "mem_num_net = []\n",
        "mem_num_del = []\n",
        "mem_num_add = []\n",
        "# if number.\n",
        "if_num_total = []\n",
        "if_num_net = []\n",
        "if_num_del = []\n",
        "if_num_add = []\n",
        "# jump number.\n",
        "jump_num_total = []\n",
        "jump_num_net = []\n",
        "jump_num_del = []\n",
        "jump_num_add = []\n",
        "# loop number.\n",
        "loop_num_total = []\n",
        "loop_num_net = []\n",
        "loop_num_del = []\n",
        "loop_num_add = []\n",
        "# arithmetic number.\n",
        "ari_num_total = []\n",
        "ari_num_net = []\n",
        "ari_num_del = []\n",
        "ari_num_add = []\n",
        "# relational number.\n",
        "rel_num_total = []\n",
        "rel_num_net = []\n",
        "rel_num_del = []\n",
        "rel_num_add = []\n",
        "# logical number.\n",
        "log_num_total = []\n",
        "log_num_net = []\n",
        "log_num_del = []\n",
        "log_num_add = []\n",
        "# bit number.\n",
        "bit_num_total = []\n",
        "bit_num_net = []\n",
        "bit_num_del = []\n",
        "bit_num_add = []\n",
        "# call number.\n",
        "call_num_total = []\n",
        "call_num_net = []\n",
        "call_num_del = []\n",
        "call_num_add = []\n",
        "# variable number.\n",
        "var_num_total = []\n",
        "var_num_net = []\n",
        "var_num_del = []\n",
        "var_num_add = []\n",
        "# global\n",
        "global_sim = []\n",
        "global_norm_sim = []\n",
        "# dictionary number.\n",
        "dir_num_total = []\n",
        "dir_num_net = []\n",
        "dir_num_del = []\n",
        "dir_num_add = []\n",
        "# others.\n",
        "cap_num = []\n",
        "race_num = []\n",
        "not_zero = []\n",
        "preprocess = []"
      ],
      "execution_count": 0,
      "outputs": []
    },
    {
      "cell_type": "markdown",
      "metadata": {
        "id": "EYzxyfPfaYrh",
        "colab_type": "text"
      },
      "source": [
        "# main function"
      ]
    },
    {
      "cell_type": "markdown",
      "metadata": {
        "id": "7QK52_suabtj",
        "colab_type": "text"
      },
      "source": [
        "main function"
      ]
    }
  ]
}